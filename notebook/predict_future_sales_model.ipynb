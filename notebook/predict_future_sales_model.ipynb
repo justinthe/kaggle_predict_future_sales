{
 "cells": [
  {
   "cell_type": "code",
   "execution_count": 17,
   "metadata": {},
   "outputs": [],
   "source": [
    "import numpy as np\n",
    "import pandas as pd\n",
    "import matplotlib.pyplot as plt\n",
    "import pickle\n",
    "import os\n",
    "from itertools import product, combinations\n",
    "%matplotlib inline"
   ]
  },
  {
   "cell_type": "code",
   "execution_count": 2,
   "metadata": {},
   "outputs": [],
   "source": [
    "def downcast_type(df):\n",
    "    float_cols = [c for c in df if df[c].dtype == 'float64']\n",
    "    int_cols = [c for c in df if df[c].dtype == 'int64']\n",
    "    df[float_cols] = df[float_cols].astype(np.float32)\n",
    "    df[int_cols] = df[int_cols].astype(np.int16)\n",
    "    \n",
    "    return df"
   ]
  },
  {
   "cell_type": "code",
   "execution_count": 3,
   "metadata": {},
   "outputs": [],
   "source": [
    "datadir = '../data/raw'\n",
    "item_categories = pd.read_csv(os.path.join(datadir, 'item_categories.csv'))\n",
    "item = pd.read_csv(os.path.join(datadir, 'items.csv'))\n",
    "train = pd.read_csv(os.path.join(datadir, 'sales_train_v2.csv'))\n",
    "shops = pd.read_csv(os.path.join(datadir, 'shops.csv'))\n",
    "test = pd.read_csv(os.path.join(datadir, 'test.csv'))"
   ]
  },
  {
   "cell_type": "markdown",
   "metadata": {},
   "source": [
    "## Data cleansing and preparation\n",
    "Remove outliers, aggregate sales by month, filter out shops not included in test data, and mimic test data distribution by including 0 sales shop-item pairs"
   ]
  },
  {
   "cell_type": "code",
   "execution_count": 4,
   "metadata": {},
   "outputs": [
    {
     "name": "stdout",
     "output_type": "stream",
     "text": [
      "0     999.00\n",
      "1     899.00\n",
      "2     899.00\n",
      "3    1709.05\n",
      "Name: item_price, dtype: float64\n"
     ]
    },
    {
     "data": {
      "text/plain": [
       "Text(0.5, 1.0, 'item count')"
      ]
     },
     "execution_count": 4,
     "metadata": {},
     "output_type": "execute_result"
    },
    {
     "data": {
      "image/png": "[encoded data removed]",
      "text/plain": [
       "<Figure size 432x288 with 2 Axes>"
      ]
     },
     "metadata": {
      "needs_background": "light"
     },
     "output_type": "display_data"
    }
   ],
   "source": [
    "selected = train[train['item_price'] < 100000]['item_price']\n",
    "print(selected.head(4))\n",
    "fig, ax = plt.subplots(1, 2)\n",
    "#fig, ax = plt.subplots()\n",
    "ax[0].boxplot(selected)\n",
    "ax[0].set_title('item price')\n",
    "ax[1].boxplot(train['item_cnt_day'])\n",
    "ax[1].set_title('item count')"
   ]
  },
  {
   "cell_type": "markdown",
   "metadata": {},
   "source": [
    "Remove item :\n",
    "    *  price > 100,000\n",
    "    *  price < 0\n",
    "    *  count > 1000"
   ]
  },
  {
   "cell_type": "code",
   "execution_count": 5,
   "metadata": {},
   "outputs": [],
   "source": [
    "train = train[(train['item_price'] < 100000) & (train['item_price'] > 0) & (train['item_cnt_day'] <= 1000)]"
   ]
  },
  {
   "cell_type": "markdown",
   "metadata": {},
   "source": [
    "Make sure all shops and item in train are in test"
   ]
  },
  {
   "cell_type": "code",
   "execution_count": 6,
   "metadata": {},
   "outputs": [],
   "source": [
    "train = train[train['shop_id'].isin(test['shop_id'].unique())]\n",
    "train = train[train['item_id'].isin(test['item_id'].unique())]"
   ]
  },
  {
   "cell_type": "code",
   "execution_count": 7,
   "metadata": {
    "scrolled": true
   },
   "outputs": [
    {
     "data": {
      "text/html": [
       "<div>\n",
       "<style scoped>\n",
       "    .dataframe tbody tr th:only-of-type {\n",
       "        vertical-align: middle;\n",
       "    }\n",
       "\n",
       "    .dataframe tbody tr th {\n",
       "        vertical-align: top;\n",
       "    }\n",
       "\n",
       "    .dataframe thead th {\n",
       "        text-align: right;\n",
       "    }\n",
       "</style>\n",
       "<table border=\"1\" class=\"dataframe\">\n",
       "  <thead>\n",
       "    <tr style=\"text-align: right;\">\n",
       "      <th></th>\n",
       "      <th>ID</th>\n",
       "      <th>shop_id</th>\n",
       "      <th>item_id</th>\n",
       "    </tr>\n",
       "  </thead>\n",
       "  <tbody>\n",
       "    <tr>\n",
       "      <th>148320</th>\n",
       "      <td>148320</td>\n",
       "      <td>59</td>\n",
       "      <td>2574</td>\n",
       "    </tr>\n",
       "  </tbody>\n",
       "</table>\n",
       "</div>"
      ],
      "text/plain": [
       "            ID  shop_id  item_id\n",
       "148320  148320       59     2574"
      ]
     },
     "execution_count": 7,
     "metadata": {},
     "output_type": "execute_result"
    }
   ],
   "source": [
    "#train.groupby(['date_block_num'])['item_cnt_day','item_price'].apply(lambda x: x.sum())\n",
    "test[(test['shop_id'] == 59) & (test['item_id'] == 2574)].head(10)"
   ]
  },
  {
   "cell_type": "code",
   "execution_count": 35,
   "metadata": {},
   "outputs": [
    {
     "data": {
      "text/plain": [
       "(32436, 2)"
      ]
     },
     "execution_count": 35,
     "metadata": {},
     "output_type": "execute_result"
    }
   ],
   "source": [
    "# trying to workout what product does\n",
    "sh = train[train['date_block_num'] == 1]['shop_id'].unique()\n",
    "it = train[train['date_block_num'] == 1]['item_id'].unique()\n",
    "pr = product(sh, it)\n",
    "np.array(list(pr)).shape"
   ]
  },
  {
   "cell_type": "code",
   "execution_count": 38,
   "metadata": {},
   "outputs": [
    {
     "data": {
      "text/plain": [
       "array([[   50,  3897,     3],\n",
       "       [   50,  3851,     3],\n",
       "       [   50,  3871,     3],\n",
       "       ...,\n",
       "       [   28,  8779,     3],\n",
       "       [   28, 10609,     3],\n",
       "       [   28, 14110,     3]], dtype=int64)"
      ]
     },
     "execution_count": 38,
     "metadata": {},
     "output_type": "execute_result"
    }
   ],
   "source": [
    "# trying to workout what product does\n",
    "sh = train[train['date_block_num'] == 1]['shop_id'].unique()\n",
    "it = train[train['date_block_num'] == 1]['item_id'].unique()\n",
    "pr = product(sh, it, [3])\n",
    "np.array(list(pr))"
   ]
  },
  {
   "cell_type": "code",
   "execution_count": 39,
   "metadata": {},
   "outputs": [],
   "source": [
    "monthly_sales = []\n",
    "for i in range(34):\n",
    "    month_sales = train[train['date_block_num'] == i]\n",
    "    monthly_sales.append(np.array(list(product(month_sales['shop_id'].unique(), month_sales['item_id'].unique(), [i])), dtype='int16'))\n",
    "\n",
    "index_cols = ['shop_id', 'item_id', 'date_block_num']    \n",
    "test['date_block_num'] = 34\n",
    "monthly_sales.append(test[index_cols])"
   ]
  },
  {
   "cell_type": "code",
   "execution_count": 43,
   "metadata": {},
   "outputs": [
    {
     "data": {
      "text/plain": [
       "[array([[   59, 22154,     0],\n",
       "        [   59,  2574,     0],\n",
       "        [   59,  2607,     0],\n",
       "        ...,\n",
       "        [   45,  5472,     0],\n",
       "        [   45,  9978,     0],\n",
       "        [   45, 10653,     0]], dtype=int16), array([[   50,  3897,     1],\n",
       "        [   50,  3851,     1],\n",
       "        [   50,  3871,     1],\n",
       "        ...,\n",
       "        [   28,  8779,     1],\n",
       "        [   28, 10609,     1],\n",
       "        [   28, 14110,     1]], dtype=int16), array([[    2,    31,     2],\n",
       "        [    2,  2416,     2],\n",
       "        [    2,  2252,     2],\n",
       "        ...,\n",
       "        [    4, 19110,     2],\n",
       "        [    4,  8855,     2],\n",
       "        [    4, 10649,     2]], dtype=int16)]"
      ]
     },
     "execution_count": 43,
     "metadata": {},
     "output_type": "execute_result"
    }
   ],
   "source": [
    "in = pd.DataFrame(np.vstack())"
   ]
  },
  {
   "cell_type": "code",
   "execution_count": null,
   "metadata": {},
   "outputs": [],
   "source": []
  }
 ],
 "metadata": {
  "kernelspec": {
   "display_name": "Python 3",
   "language": "python",
   "name": "python3"
  },
  "language_info": {
   "codemirror_mode": {
    "name": "ipython",
    "version": 3
   },
   "file_extension": ".py",
   "mimetype": "text/x-python",
   "name": "python",
   "nbconvert_exporter": "python",
   "pygments_lexer": "ipython3",
   "version": "3.7.0"
  }
 },
 "nbformat": 4,
 "nbformat_minor": 2
}
